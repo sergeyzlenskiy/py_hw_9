{
 "cells": [
  {
   "cell_type": "code",
   "execution_count": 1,
   "id": "2cdc579e-97ab-4515-bfa0-7ca82f43047c",
   "metadata": {
    "tags": []
   },
   "outputs": [],
   "source": [
    "import numpy as np"
   ]
  },
  {
   "cell_type": "code",
   "execution_count": 2,
   "id": "2ce744a5-0a79-4856-99b5-ef29ad860e32",
   "metadata": {
    "tags": []
   },
   "outputs": [],
   "source": [
    "# Определяем функцию для проверки выигрыша"
   ]
  },
  {
   "cell_type": "code",
   "execution_count": 4,
   "id": "228b7aaf-f1ae-4297-be10-40f9991fca3c",
   "metadata": {
    "tags": []
   },
   "outputs": [],
   "source": [
    "def check_win(number):\n",
    "    if number == 777:\n",
    "        return 200\n",
    "    elif number == 999:\n",
    "        return 100\n",
    "    elif number == 555:\n",
    "        return 50\n",
    "    elif number == 333:\n",
    "        return 15\n",
    "    elif number == 111:\n",
    "        return 10\n",
    "    elif str(number).endswith('77'):\n",
    "        return 5\n",
    "    elif str(number).endswith('7'):\n",
    "        return 3\n",
    "    elif str(number).endswith('00'):\n",
    "        return 2\n",
    "    elif str(number).endswith('0'):\n",
    "        return 1\n",
    "    else:\n",
    "        return 0"
   ]
  },
  {
   "cell_type": "code",
   "execution_count": 5,
   "id": "2bfdd4a7-4759-4715-b597-0c85067e6d55",
   "metadata": {
    "tags": []
   },
   "outputs": [],
   "source": [
    "# Определяем функцию для моделирования игры"
   ]
  },
  {
   "cell_type": "code",
   "execution_count": 6,
   "id": "8adc6c3f-6c6a-454e-ada2-02457805fc4d",
   "metadata": {
    "tags": []
   },
   "outputs": [],
   "source": [
    "def simulate_lottery(num_games):\n",
    "    total_cost = num_games * 1  # Стоимость игры: 1 руб. за игру\n",
    "    total_winnings = 0\n",
    "    lucky_games_count=0\n",
    "    \n",
    "    for _ in range(num_games):\n",
    "        random_number = np.random.randint(0, 1000)  # Генерация случайного числа от 0 до 999\n",
    "        winnings = check_win(random_number)\n",
    "        total_winnings += winnings\n",
    "        if winnings > 0:\n",
    "            lucky_games_count+=1\n",
    "    \n",
    "    net_gain = total_winnings - total_cost\n",
    "    average_gain = net_gain / num_games\n",
    "    \n",
    "    return total_winnings, total_cost, net_gain, average_gain, lucky_games_count"
   ]
  },
  {
   "cell_type": "code",
   "execution_count": 7,
   "id": "10d1578a-9d50-4012-9643-bd9b1a908f44",
   "metadata": {
    "tags": []
   },
   "outputs": [],
   "source": [
    "num_games = 1000000"
   ]
  },
  {
   "cell_type": "code",
   "execution_count": 20,
   "id": "1b01675f-e1d4-4eb8-9a45-3625c4626fd5",
   "metadata": {
    "tags": []
   },
   "outputs": [],
   "source": [
    "total_winnings, total_cost, net_gain, average_gain, lucky_games_count = simulate_lottery(num_games)"
   ]
  },
  {
   "cell_type": "code",
   "execution_count": 12,
   "id": "f879782e-4690-4df4-aebd-443f8ba4e2b8",
   "metadata": {
    "tags": []
   },
   "outputs": [],
   "source": [
    "win_chance= lucky_games_count/num_games"
   ]
  },
  {
   "cell_type": "code",
   "execution_count": 21,
   "id": "edb9cebc-cd9f-456d-a271-c79914fdbda3",
   "metadata": {
    "tags": []
   },
   "outputs": [
    {
     "name": "stdout",
     "output_type": "stream",
     "text": [
      "Всего выйграно денег руб.:  801662 \n",
      " Всего потрачено руб.:  1000000 \n",
      " Чистая прибыль руб.:  -198338 \n",
      " Средний выйгрыш за 1 игру руб.:  -0.198338 \n",
      " Вероятность выйгрыша:  0.203596 \n",
      " Количество удачных игр:  204150\n"
     ]
    }
   ],
   "source": [
    "print('Всего выйграно денег руб.: ', total_winnings, '\\n', 'Всего потрачено руб.: ', total_cost,'\\n', 'Чистая прибыль руб.: ', net_gain,'\\n','Средний выйгрыш за 1 игру руб.: ', average_gain,'\\n', 'Вероятность выйгрыша: ', win_chance, '\\n', 'Количество удачных игр: ', lucky_games_count)"
   ]
  },
  {
   "cell_type": "code",
   "execution_count": null,
   "id": "25916e08-0c3c-4523-ab40-83225f52ead1",
   "metadata": {},
   "outputs": [],
   "source": []
  }
 ],
 "metadata": {
  "kernelspec": {
   "display_name": "Python 3",
   "language": "python",
   "name": "python3"
  },
  "language_info": {
   "codemirror_mode": {
    "name": "ipython",
    "version": 3
   },
   "file_extension": ".py",
   "mimetype": "text/x-python",
   "name": "python",
   "nbconvert_exporter": "python",
   "pygments_lexer": "ipython3",
   "version": "3.11.9"
  }
 },
 "nbformat": 4,
 "nbformat_minor": 5
}
